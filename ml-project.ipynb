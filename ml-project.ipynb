{
 "cells": [
  {
   "cell_type": "code",
   "execution_count": 1,
   "id": "42b33439",
   "metadata": {
    "_cell_guid": "b1076dfc-b9ad-4769-8c92-a6c4dae69d19",
    "_uuid": "8f2839f25d086af736a60e9eeb907d3b93b6e0e5",
    "execution": {
     "iopub.execute_input": "2024-11-09T22:04:51.616146Z",
     "iopub.status.busy": "2024-11-09T22:04:51.615638Z",
     "iopub.status.idle": "2024-11-09T22:04:52.623261Z",
     "shell.execute_reply": "2024-11-09T22:04:52.622159Z"
    },
    "papermill": {
     "duration": 1.018259,
     "end_time": "2024-11-09T22:04:52.626540",
     "exception": false,
     "start_time": "2024-11-09T22:04:51.608281",
     "status": "completed"
    },
    "tags": []
   },
   "outputs": [
    {
     "name": "stdout",
     "output_type": "stream",
     "text": [
      "/kaggle/input/place-review-dataset-niche-usa/niche_review_count.json\n",
      "/kaggle/input/place-review-dataset-niche-usa/niche_entity_name.json\n",
      "/kaggle/input/place-review-dataset-niche-usa/niche_part1.json\n",
      "/kaggle/input/place-review-dataset-niche-usa/niche_entity_details.json\n",
      "/kaggle/input/place-review-dataset-niche-usa/niche_part2.json\n"
     ]
    }
   ],
   "source": [
    "# This Python 3 environment comes with many helpful analytics libraries installed\n",
    "# It is defined by the kaggle/python Docker image: https://github.com/kaggle/docker-python\n",
    "# For example, here's several helpful packages to load\n",
    "\n",
    "import numpy as np # linear algebra\n",
    "import pandas as pd # data processing, CSV file I/O (e.g. pd.read_csv)\n",
    "\n",
    "# Input data files are available in the read-only \"../input/\" directory\n",
    "# For example, running this (by clicking run or pressing Shift+Enter) will list all files under the input directory\n",
    "\n",
    "import os\n",
    "for dirname, _, filenames in os.walk('/kaggle/input'):\n",
    "    for filename in filenames:\n",
    "        print(os.path.join(dirname, filename))\n",
    "\n",
    "# You can write up to 20GB to the current directory (/kaggle/working/) that gets preserved as output when you create a version using \"Save & Run All\" \n",
    "# You can also write temporary files to /kaggle/temp/, but they won't be saved outside of the current session"
   ]
  },
  {
   "cell_type": "code",
   "execution_count": 2,
   "id": "31881af8",
   "metadata": {
    "execution": {
     "iopub.execute_input": "2024-11-09T22:04:52.640203Z",
     "iopub.status.busy": "2024-11-09T22:04:52.639246Z",
     "iopub.status.idle": "2024-11-09T22:04:52.644935Z",
     "shell.execute_reply": "2024-11-09T22:04:52.643783Z"
    },
    "papermill": {
     "duration": 0.015055,
     "end_time": "2024-11-09T22:04:52.647749",
     "exception": false,
     "start_time": "2024-11-09T22:04:52.632694",
     "status": "completed"
    },
    "tags": []
   },
   "outputs": [],
   "source": [
    "import pandas as pd\n",
    "import json"
   ]
  },
  {
   "cell_type": "code",
   "execution_count": 3,
   "id": "9b359ed3",
   "metadata": {
    "execution": {
     "iopub.execute_input": "2024-11-09T22:04:52.660025Z",
     "iopub.status.busy": "2024-11-09T22:04:52.659532Z",
     "iopub.status.idle": "2024-11-09T22:04:53.946012Z",
     "shell.execute_reply": "2024-11-09T22:04:53.944387Z"
    },
    "papermill": {
     "duration": 1.296275,
     "end_time": "2024-11-09T22:04:53.949240",
     "exception": false,
     "start_time": "2024-11-09T22:04:52.652965",
     "status": "completed"
    },
    "tags": []
   },
   "outputs": [
    {
     "name": "stdout",
     "output_type": "stream",
     "text": [
      "Hello from the saved Python file!\r\n"
     ]
    }
   ],
   "source": [
    "code = \"\"\"\n",
    "def say_hello():\n",
    "    print(\"Hello from the saved Python file!\")\n",
    "\n",
    "if __name__ == \"__main__\":\n",
    "    say_hello()\n",
    "\"\"\"\n",
    "\n",
    "# Save code to a .py file\n",
    "with open('/kaggle/working/my_script.py', 'w') as file:\n",
    "    file.write(code)\n",
    "!python /kaggle/working/my_script.py"
   ]
  },
  {
   "cell_type": "code",
   "execution_count": 4,
   "id": "36132aed",
   "metadata": {
    "execution": {
     "iopub.execute_input": "2024-11-09T22:04:53.962129Z",
     "iopub.status.busy": "2024-11-09T22:04:53.961519Z",
     "iopub.status.idle": "2024-11-09T22:04:59.914140Z",
     "shell.execute_reply": "2024-11-09T22:04:59.911902Z"
    },
    "papermill": {
     "duration": 5.962704,
     "end_time": "2024-11-09T22:04:59.917200",
     "exception": false,
     "start_time": "2024-11-09T22:04:53.954496",
     "status": "completed"
    },
    "tags": []
   },
   "outputs": [
    {
     "name": "stdout",
     "output_type": "stream",
     "text": [
      "Data has been flattened and saved to 'niche_entity_details_flat.csv'\n"
     ]
    }
   ],
   "source": [
    "\n",
    "# Load JSON data\n",
    "with open('/kaggle/input/place-review-dataset-niche-usa/niche_entity_details.json', 'r') as f:\n",
    "    data = json.load(f)\n",
    "\n",
    "# Initialize a list to store each row as a dictionary\n",
    "flattened_data = []\n",
    "\n",
    "# Iterate through each entity in the JSON data correctly using `data.items()`\n",
    "for guid, details in data.items():\n",
    "    row = {\n",
    "        'guid': guid,\n",
    "        'badge_display': details.get('badge', {}).get('display'),\n",
    "        'badge_ordinal': details.get('badge', {}).get('ordinal'),\n",
    "        'badge_total': details.get('badge', {}).get('total'),\n",
    "        'badge_vanityURL': details.get('badge', {}).get('vanityURL'),\n",
    "        'badge_photoURL_desktop': details.get('badge', {}).get('photoURLs', {}).get('desktop'),\n",
    "        'badge_photoURL_mobile': details.get('badge', {}).get('photoURLs', {}).get('mobile'),\n",
    "        'location_lat': details.get('content', {}).get('centroid', {}).get('lat'),\n",
    "        'location_lon': details.get('content', {}).get('centroid', {}).get('lon'),\n",
    "        'entity_name': details.get('content', {}).get('entity', {}).get('name'),\n",
    "        'entity_location': details.get('content', {}).get('entity', {}).get('location'),\n",
    "        'entity_type': details.get('content', {}).get('entity', {}).get('type'),\n",
    "        'entity_genus': details.get('content', {}).get('entity', {}).get('genus'),\n",
    "        'entity_population': next((fact['value'] for fact in details.get('content', {}).get('facts', []) if fact.get('label') == \"Population\"), None)\n",
    "    }\n",
    "    \n",
    "    # Add grades, if available\n",
    "    grades = details.get('content', {}).get('grades', [])\n",
    "    for grade in grades:\n",
    "        row[f'grade_{grade[\"label\"].replace(\" \", \"_\")}'] = grade.get('value')\n",
    "    \n",
    "    # Add featured review information if available\n",
    "    featured_review = details.get('content', {}).get('featuredReview', {})\n",
    "    row['featured_review_author'] = featured_review.get('author')\n",
    "    row['featured_review_body'] = featured_review.get('body')\n",
    "    row['featured_review_rating'] = featured_review.get('rating')\n",
    "    row['featured_review_created'] = featured_review.get('created')\n",
    "    \n",
    "    # Append the flattened row to the list\n",
    "    flattened_data.append(row)\n",
    "\n",
    "# Convert the list of dictionaries to a DataFrame\n",
    "df = pd.DataFrame(flattened_data)\n",
    "\n",
    "# Save the DataFrame to CSV\n",
    "df.to_csv('niche_entity_details_flat.csv', index=False)\n",
    "\n",
    "print(\"Data has been flattened and saved to 'niche_entity_details_flat.csv'\")\n"
   ]
  },
  {
   "cell_type": "code",
   "execution_count": 5,
   "id": "5dd3226a",
   "metadata": {
    "execution": {
     "iopub.execute_input": "2024-11-09T22:04:59.930373Z",
     "iopub.status.busy": "2024-11-09T22:04:59.929909Z",
     "iopub.status.idle": "2024-11-09T22:05:00.043386Z",
     "shell.execute_reply": "2024-11-09T22:05:00.041807Z"
    },
    "papermill": {
     "duration": 0.123944,
     "end_time": "2024-11-09T22:05:00.046863",
     "exception": false,
     "start_time": "2024-11-09T22:04:59.922919",
     "status": "completed"
    },
    "tags": []
   },
   "outputs": [
    {
     "name": "stdout",
     "output_type": "stream",
     "text": [
      "<class 'pandas.core.frame.DataFrame'>\n",
      "RangeIndex: 50253 entries, 0 to 50252\n",
      "Data columns (total 20 columns):\n",
      " #   Column                     Non-Null Count  Dtype  \n",
      "---  ------                     --------------  -----  \n",
      " 0   guid                       50253 non-null  object \n",
      " 1   badge_display              11948 non-null  object \n",
      " 2   badge_ordinal              11948 non-null  float64\n",
      " 3   badge_total                11948 non-null  float64\n",
      " 4   badge_vanityURL            11948 non-null  object \n",
      " 5   badge_photoURL_desktop     11948 non-null  object \n",
      " 6   badge_photoURL_mobile      11948 non-null  object \n",
      " 7   location_lat               50183 non-null  float64\n",
      " 8   location_lon               50183 non-null  float64\n",
      " 9   entity_name                50253 non-null  object \n",
      " 10  entity_location            50253 non-null  object \n",
      " 11  entity_type                50253 non-null  object \n",
      " 12  entity_genus               50253 non-null  object \n",
      " 13  entity_population          50253 non-null  int64  \n",
      " 14  grade_Overall_Niche_Grade  49086 non-null  float64\n",
      " 15  grade_Public_Schools       47917 non-null  float64\n",
      " 16  featured_review_author     23931 non-null  object \n",
      " 17  featured_review_body       23931 non-null  object \n",
      " 18  featured_review_rating     23931 non-null  float64\n",
      " 19  featured_review_created    23931 non-null  object \n",
      "dtypes: float64(7), int64(1), object(12)\n",
      "memory usage: 7.7+ MB\n",
      "None\n"
     ]
    }
   ],
   "source": [
    "\n",
    "print(df.info())  # Check the structure and types of columns\n"
   ]
  },
  {
   "cell_type": "code",
   "execution_count": 6,
   "id": "38799b11",
   "metadata": {
    "execution": {
     "iopub.execute_input": "2024-11-09T22:05:00.061518Z",
     "iopub.status.busy": "2024-11-09T22:05:00.060841Z",
     "iopub.status.idle": "2024-11-09T22:05:00.524825Z",
     "shell.execute_reply": "2024-11-09T22:05:00.523323Z"
    },
    "papermill": {
     "duration": 0.475135,
     "end_time": "2024-11-09T22:05:00.527786",
     "exception": false,
     "start_time": "2024-11-09T22:05:00.052651",
     "status": "completed"
    },
    "tags": []
   },
   "outputs": [
    {
     "name": "stdout",
     "output_type": "stream",
     "text": [
      "Data has been saved to 'niche_entity_name_flat.csv'\n"
     ]
    }
   ],
   "source": [
    "with open('/kaggle/input/place-review-dataset-niche-usa/niche_entity_name.json', 'r') as f:\n",
    "    data = json.load(f)\n",
    "\n",
    "# Convert JSON to a list of dictionaries with 'guid' and 'name' columns\n",
    "flattened_data = [{'guid': guid, 'name': name} for guid, name in data.items()]\n",
    "\n",
    "# Convert list of dictionaries to a DataFrame\n",
    "df = pd.DataFrame(flattened_data)\n",
    "\n",
    "# Save DataFrame to CSV\n",
    "df.to_csv('niche_entity_name_flat.csv', index=False)\n",
    "\n",
    "print(\"Data has been saved to 'niche_entity_name_flat.csv'\")\n"
   ]
  },
  {
   "cell_type": "code",
   "execution_count": 7,
   "id": "963e6538",
   "metadata": {
    "execution": {
     "iopub.execute_input": "2024-11-09T22:05:00.541219Z",
     "iopub.status.busy": "2024-11-09T22:05:00.540134Z",
     "iopub.status.idle": "2024-11-09T22:05:00.551464Z",
     "shell.execute_reply": "2024-11-09T22:05:00.549756Z"
    },
    "papermill": {
     "duration": 0.021118,
     "end_time": "2024-11-09T22:05:00.554441",
     "exception": false,
     "start_time": "2024-11-09T22:05:00.533323",
     "status": "completed"
    },
    "tags": []
   },
   "outputs": [
    {
     "name": "stdout",
     "output_type": "stream",
     "text": [
      "                                   guid                      name\n",
      "0  df1e4fd2-772c-4c38-94e5-4fdf7b969398              Chesterbrook\n",
      "1  382e8519-b5c6-4658-bf30-5592d5aeb699                  Bluemont\n",
      "2  eb3305be-9dac-4bc9-9c6f-1229a2019d31  Radnor/Fort Myer Heights\n",
      "3  c65a22ea-39da-412e-9b06-f161a23b9da9               Holly Hills\n",
      "4  2894f360-1545-48ef-a77d-eb3d777501cf                Penn Wynne\n"
     ]
    }
   ],
   "source": [
    "print(df.head())"
   ]
  },
  {
   "cell_type": "code",
   "execution_count": 8,
   "id": "6e950ecd",
   "metadata": {
    "execution": {
     "iopub.execute_input": "2024-11-09T22:05:00.568025Z",
     "iopub.status.busy": "2024-11-09T22:05:00.567527Z",
     "iopub.status.idle": "2024-11-09T22:05:09.412019Z",
     "shell.execute_reply": "2024-11-09T22:05:09.410467Z"
    },
    "papermill": {
     "duration": 8.854898,
     "end_time": "2024-11-09T22:05:09.415129",
     "exception": false,
     "start_time": "2024-11-09T22:05:00.560231",
     "status": "completed"
    },
    "tags": []
   },
   "outputs": [
    {
     "name": "stdout",
     "output_type": "stream",
     "text": [
      "Data has been flattened and saved to 'training_data.csv'\n"
     ]
    }
   ],
   "source": [
    "import pandas as pd\n",
    "import json\n",
    "\n",
    "# Load JSON data\n",
    "with open('/kaggle/input/place-review-dataset-niche-usa/niche_part1.json', 'r') as f:\n",
    "    data = json.load(f)\n",
    "\n",
    "# Initialize a list to store each review as a row in a dictionary\n",
    "flattened_data = []\n",
    "\n",
    "# Iterate through each place's reviews in the JSON data\n",
    "for place_guid, reviews in data.items():\n",
    "    # Each place may have multiple reviews\n",
    "    for review in reviews:\n",
    "        # Create a dictionary to store the review information\n",
    "        row = {\n",
    "            'place_guid': place_guid,\n",
    "            'review_guid': review.get('guid'),\n",
    "            'review_body': review.get('body'),\n",
    "            'rating': review.get('rating'),\n",
    "            'author': review.get('author'),\n",
    "            'created': review.get('created'),\n",
    "            # Join categories list into a single string if multiple categories are present\n",
    "            'categories': \", \".join(review.get('categories', []))\n",
    "        }\n",
    "        \n",
    "        # Append the row to the list\n",
    "        flattened_data.append(row)\n",
    "\n",
    "# Convert the list of dictionaries to a DataFrame\n",
    "df = pd.DataFrame(flattened_data)\n",
    "\n",
    "# Save the DataFrame to CSV\n",
    "df.to_csv('training_data.csv', index=False)\n",
    "\n",
    "print(\"Data has been flattened and saved to 'training_data.csv'\")\n"
   ]
  },
  {
   "cell_type": "code",
   "execution_count": 9,
   "id": "8d72bdc3",
   "metadata": {
    "execution": {
     "iopub.execute_input": "2024-11-09T22:05:09.429229Z",
     "iopub.status.busy": "2024-11-09T22:05:09.428767Z",
     "iopub.status.idle": "2024-11-09T22:05:09.438460Z",
     "shell.execute_reply": "2024-11-09T22:05:09.437072Z"
    },
    "papermill": {
     "duration": 0.020953,
     "end_time": "2024-11-09T22:05:09.442074",
     "exception": false,
     "start_time": "2024-11-09T22:05:09.421121",
     "status": "completed"
    },
    "tags": []
   },
   "outputs": [
    {
     "name": "stdout",
     "output_type": "stream",
     "text": [
      "                             place_guid                           review_guid  \\\n",
      "0  76c89487-bffb-4e28-a402-6f82996e319d  e9262a21-caae-4ee7-b127-4d885ec89669   \n",
      "1  76c89487-bffb-4e28-a402-6f82996e319d  71967f5b-6573-4398-8718-41ff10cb5a98   \n",
      "2  76c89487-bffb-4e28-a402-6f82996e319d  5590a4a3-83e4-44a4-b85c-86b9d981395f   \n",
      "3  76c89487-bffb-4e28-a402-6f82996e319d  0286dce9-6178-4c0f-8b44-0fc479795c1f   \n",
      "4  76c89487-bffb-4e28-a402-6f82996e319d  fafea388-f41c-4327-b6d7-cf62afe17b08   \n",
      "\n",
      "                                         review_body  rating  \\\n",
      "0  Roxbury an average place it is dangerous at  t...       3   \n",
      "1  I like how everything is close by and nothing ...       5   \n",
      "2  I have lived in the Roxbury area for more than...       4   \n",
      "3  Depending on whether the part of Roxbury is mo...       2   \n",
      "4  For what it's worth, I would say the only thin...       3   \n",
      "\n",
      "             author                      created          categories  \n",
      "0  Current Resident   2020-12-18T16:59:33.28511Z  Overall Experience  \n",
      "1  Current Resident  2020-10-15T03:20:16.864495Z  Overall Experience  \n",
      "2  Current Resident  2020-08-24T17:00:45.640805Z  Overall Experience  \n",
      "3  Current Resident  2020-08-12T14:50:08.057947Z  Overall Experience  \n",
      "4  Current Resident  2020-07-29T21:41:21.323881Z  Overall Experience  \n"
     ]
    }
   ],
   "source": [
    "print(df.head())"
   ]
  },
  {
   "cell_type": "code",
   "execution_count": 10,
   "id": "db861833",
   "metadata": {
    "execution": {
     "iopub.execute_input": "2024-11-09T22:05:09.456349Z",
     "iopub.status.busy": "2024-11-09T22:05:09.455886Z",
     "iopub.status.idle": "2024-11-09T22:05:25.999567Z",
     "shell.execute_reply": "2024-11-09T22:05:25.998125Z"
    },
    "papermill": {
     "duration": 16.555101,
     "end_time": "2024-11-09T22:05:26.003022",
     "exception": false,
     "start_time": "2024-11-09T22:05:09.447921",
     "status": "completed"
    },
    "tags": []
   },
   "outputs": [
    {
     "name": "stdout",
     "output_type": "stream",
     "text": [
      "Data has been flattened and saved to 'training_data2.csv'\n",
      "                             place_guid                           review_guid  \\\n",
      "0  0002941f-8dbf-4b2e-83aa-7b27ddab05ba  392c6f1d-cb59-4ca7-9e6b-69fdd6bc0f1a   \n",
      "1  0002941f-8dbf-4b2e-83aa-7b27ddab05ba  758db7c6-adff-4b2e-96c1-96addf039b13   \n",
      "2  0002941f-8dbf-4b2e-83aa-7b27ddab05ba  29d80034-73d7-44f1-b6c8-aff790ba3028   \n",
      "3  0002941f-8dbf-4b2e-83aa-7b27ddab05ba  ba532f4f-7e73-42ec-ab72-beeff6926d8a   \n",
      "4  0002941f-8dbf-4b2e-83aa-7b27ddab05ba  9cb0061e-14f9-4473-8f77-1f7271b29a6f   \n",
      "\n",
      "                                         review_body  rating  \\\n",
      "0  Waxahachie is a very friendly and safe place t...       4   \n",
      "1  Lived here my whole life. Town is very friendl...       5   \n",
      "2  I enjoy Waxahachie. The one thing I would love...       4   \n",
      "3  They have a wide variety of restaurants and st...       4   \n",
      "4  If you only look at and notice the exteriors o...       1   \n",
      "\n",
      "             author                      created          categories  \n",
      "0  Current Resident  2019-02-26T18:04:45.793559Z  Overall Experience  \n",
      "1  Current Resident  2019-02-16T02:56:49.263043Z  Overall Experience  \n",
      "2  Current Resident  2019-01-22T15:30:37.386525Z  Overall Experience  \n",
      "3   Former Resident  2019-01-20T03:25:13.154072Z  Overall Experience  \n",
      "4        Niche User  2018-12-21T17:17:25.025035Z  Overall Experience  \n"
     ]
    }
   ],
   "source": [
    "import pandas as pd\n",
    "import json\n",
    "\n",
    "# Load JSON data\n",
    "with open('/kaggle/input/place-review-dataset-niche-usa/niche_part2.json', 'r') as f:\n",
    "    data = json.load(f)\n",
    "\n",
    "# Initialize a list to store each review as a row in a dictionary\n",
    "flattened_data = []\n",
    "\n",
    "# Iterate through each place's reviews in the JSON data\n",
    "for place_guid, reviews in data.items():\n",
    "    # Each place may have multiple reviews\n",
    "    for review in reviews:\n",
    "        # Create a dictionary to store the review information\n",
    "        row = {\n",
    "            'place_guid': place_guid,\n",
    "            'review_guid': review.get('guid'),\n",
    "            'review_body': review.get('body'),\n",
    "            'rating': review.get('rating'),\n",
    "            'author': review.get('author'),\n",
    "            'created': review.get('created'),\n",
    "            # Join categories list into a single string if multiple categories are present\n",
    "            'categories': \", \".join(review.get('categories', []))\n",
    "        }\n",
    "        \n",
    "        # Append the row to the list\n",
    "        flattened_data.append(row)\n",
    "\n",
    "# Convert the list of dictionaries to a DataFrame\n",
    "df = pd.DataFrame(flattened_data)\n",
    "\n",
    "# Save the DataFrame to CSV\n",
    "df.to_csv('training_data2.csv', index=False)\n",
    "\n",
    "print(\"Data has been flattened and saved to 'training_data2.csv'\")\n",
    "print(df.head())"
   ]
  },
  {
   "cell_type": "code",
   "execution_count": 11,
   "id": "c1a82095",
   "metadata": {
    "execution": {
     "iopub.execute_input": "2024-11-09T22:05:26.019752Z",
     "iopub.status.busy": "2024-11-09T22:05:26.019268Z",
     "iopub.status.idle": "2024-11-09T22:05:26.712896Z",
     "shell.execute_reply": "2024-11-09T22:05:26.711310Z"
    },
    "papermill": {
     "duration": 0.707708,
     "end_time": "2024-11-09T22:05:26.717266",
     "exception": false,
     "start_time": "2024-11-09T22:05:26.009558",
     "status": "completed"
    },
    "tags": []
   },
   "outputs": [
    {
     "name": "stdout",
     "output_type": "stream",
     "text": [
      "Data has been saved to 'review_count.csv'\n",
      "                                   guid  review_count\n",
      "0  76c89487-bffb-4e28-a402-6f82996e319d           114\n",
      "1  84fe50d6-43be-438a-98b1-db76a4320673             5\n",
      "2  86282b3f-1e86-4a84-9dd1-b53de90b1678             6\n",
      "3  5b6b16b4-05c4-4da2-b899-5a991d89ab5a            13\n",
      "4  9d20dd4a-34b8-4b59-a2d9-9089c2b86f41            48\n"
     ]
    }
   ],
   "source": [
    "import pandas as pd\n",
    "import json\n",
    "\n",
    "# Load JSON data\n",
    "with open('/kaggle/input/place-review-dataset-niche-usa/niche_review_count.json', 'r') as f:\n",
    "    data = json.load(f)\n",
    "\n",
    "# Convert JSON to a list of dictionaries with 'guid' and 'review_count' columns\n",
    "flattened_data = [{'guid': guid, 'review_count': count} for guid, count in data.items()]\n",
    "\n",
    "# Convert list of dictionaries to a DataFrame\n",
    "df = pd.DataFrame(flattened_data)\n",
    "\n",
    "# Save DataFrame to CSV\n",
    "df.to_csv('review_count.csv', index=False)\n",
    "\n",
    "print(\"Data has been saved to 'review_count.csv'\")\n",
    "print(df.head())"
   ]
  }
 ],
 "metadata": {
  "kaggle": {
   "accelerator": "none",
   "dataSources": [
    {
     "datasetId": 1095233,
     "sourceId": 1842046,
     "sourceType": "datasetVersion"
    }
   ],
   "dockerImageVersionId": 30786,
   "isGpuEnabled": false,
   "isInternetEnabled": true,
   "language": "python",
   "sourceType": "notebook"
  },
  "kernelspec": {
   "display_name": "Python 3",
   "language": "python",
   "name": "python3"
  },
  "language_info": {
   "codemirror_mode": {
    "name": "ipython",
    "version": 3
   },
   "file_extension": ".py",
   "mimetype": "text/x-python",
   "name": "python",
   "nbconvert_exporter": "python",
   "pygments_lexer": "ipython3",
   "version": "3.10.14"
  },
  "papermill": {
   "default_parameters": {},
   "duration": 39.077684,
   "end_time": "2024-11-09T22:05:27.451555",
   "environment_variables": {},
   "exception": null,
   "input_path": "__notebook__.ipynb",
   "output_path": "__notebook__.ipynb",
   "parameters": {},
   "start_time": "2024-11-09T22:04:48.373871",
   "version": "2.6.0"
  }
 },
 "nbformat": 4,
 "nbformat_minor": 5
}
